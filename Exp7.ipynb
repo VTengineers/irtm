{
 "cells": [
  {
   "cell_type": "code",
   "execution_count": 1,
   "id": "9261fb91-3d99-4eed-9935-b564c728a112",
   "metadata": {},
   "outputs": [
    {
     "name": "stdout",
     "output_type": "stream",
     "text": [
      "Defaulting to user installation because normal site-packages is not writeable\n",
      "Requirement already satisfied: requests in c:\\users\\tousif m tamboli\\appdata\\roaming\\python\\python311\\site-packages (2.31.0)\n",
      "Requirement already satisfied: beautifulsoup4 in c:\\users\\tousif m tamboli\\appdata\\roaming\\python\\python311\\site-packages (4.12.3)\n",
      "Requirement already satisfied: charset-normalizer<4,>=2 in c:\\users\\tousif m tamboli\\appdata\\roaming\\python\\python311\\site-packages (from requests) (3.3.2)\n",
      "Requirement already satisfied: idna<4,>=2.5 in c:\\users\\tousif m tamboli\\appdata\\roaming\\python\\python311\\site-packages (from requests) (3.7)\n",
      "Requirement already satisfied: urllib3<3,>=1.21.1 in c:\\users\\tousif m tamboli\\appdata\\roaming\\python\\python311\\site-packages (from requests) (2.2.1)\n",
      "Requirement already satisfied: certifi>=2017.4.17 in c:\\users\\tousif m tamboli\\appdata\\roaming\\python\\python311\\site-packages (from requests) (2023.11.17)\n",
      "Requirement already satisfied: soupsieve>1.2 in c:\\users\\tousif m tamboli\\appdata\\roaming\\python\\python311\\site-packages (from beautifulsoup4) (2.5)\n",
      "Note: you may need to restart the kernel to use updated packages.\n"
     ]
    }
   ],
   "source": [
    "pip install requests beautifulsoup4"
   ]
  },
  {
   "cell_type": "code",
   "execution_count": 2,
   "id": "f5285e65-60d6-4eee-8ab7-1d007ea90192",
   "metadata": {},
   "outputs": [
    {
     "name": "stdout",
     "output_type": "stream",
     "text": [
      "Error fetching https://www.geeksforgeeks.org/programming-language-choose/: HTTPSConnectionPool(host='www.geeksforgeeks.org', port=443): Max retries exceeded with url: /programming-language-choose/ (Caused by SSLError(SSLCertVerificationError(1, '[SSL: CERTIFICATE_VERIFY_FAILED] certificate verify failed: self-signed certificate in certificate chain (_ssl.c:1006)')))\n"
     ]
    }
   ],
   "source": [
    "import requests\n",
    "from bs4 import BeautifulSoup\n",
    "from collections import Counter\n",
    "import operator\n",
    "import string\n",
    "\n",
    "def clean_text(text):\n",
    "    # Remove punctuation and convert to lowercase\n",
    "    text = text.translate(str.maketrans(\"\", \"\", string.punctuation))\n",
    "    return text.lower()\n",
    "\n",
    "def create_dictionary(clean_list):\n",
    "    word_count = {}\n",
    "    for word in clean_list:\n",
    "        if word in word_count:\n",
    "            word_count[word] += 1\n",
    "        else:\n",
    "            word_count[word] = 1\n",
    "\n",
    "    # Sort the word_count dictionary by frequency\n",
    "    for key, value in sorted(word_count.items(), key=operator.itemgetter(1), reverse=True):\n",
    "        print(f\"{key}: {value}\")\n",
    "\n",
    "    # Get the most common elements\n",
    "    c = Counter(word_count)\n",
    "    top = c.most_common(10)\n",
    "    print(\"Most common words:\", top)\n",
    "\n",
    "def start(url):\n",
    "    try:\n",
    "        response = requests.get(url)\n",
    "        response.raise_for_status()  # Raise an error for bad responses\n",
    "        soup = BeautifulSoup(response.text, 'html.parser')\n",
    "\n",
    "        # Extract text from the page\n",
    "        text = soup.get_text()\n",
    "        # Clean and split the text into words\n",
    "        clean_list = clean_text(text).split()\n",
    "\n",
    "        # Create a dictionary of word counts\n",
    "        create_dictionary(clean_list)\n",
    "\n",
    "    except requests.RequestException as e:\n",
    "        print(f\"Error fetching {url}: {e}\")\n",
    "\n",
    "if __name__ == '__main__':\n",
    "    url = \"https://www.geeksforgeeks.org/programming-language-choose/\"\n",
    "    # Start crawling and print output\n",
    "    start(url)\n"
   ]
  },
  {
   "cell_type": "code",
   "execution_count": null,
   "id": "d84ba1e8-ea70-4d5c-b725-1e059f656684",
   "metadata": {},
   "outputs": [],
   "source": []
  }
 ],
 "metadata": {
  "kernelspec": {
   "display_name": "Python 3 (ipykernel)",
   "language": "python",
   "name": "python3"
  },
  "language_info": {
   "codemirror_mode": {
    "name": "ipython",
    "version": 3
   },
   "file_extension": ".py",
   "mimetype": "text/x-python",
   "name": "python",
   "nbconvert_exporter": "python",
   "pygments_lexer": "ipython3",
   "version": "3.11.7"
  }
 },
 "nbformat": 4,
 "nbformat_minor": 5
}
