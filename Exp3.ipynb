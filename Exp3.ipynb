{
 "cells": [
  {
   "cell_type": "code",
   "execution_count": null,
   "id": "3f1600fc-795d-469c-97f7-f598a70b1721",
   "metadata": {},
   "outputs": [],
   "source": [
    "# Make two documents named \"GFG.txt\" and \"file.txt\""
   ]
  },
  {
   "cell_type": "code",
   "execution_count": 4,
   "id": "a0c82969-bc62-4d60-9e6d-695afb294597",
   "metadata": {},
   "outputs": [
    {
     "name": "stdout",
     "output_type": "stream",
     "text": [
      "File C:\\Users\\Tousif M Tamboli\\Downloads\\GFG.txt :\n",
      "12 words,\n",
      "12 distinct words\n",
      "File C:\\Users\\Tousif M Tamboli\\Downloads\\file.txt :\n",
      "12 words,\n",
      "12 distinct words\n",
      "The distance between the documents is: 0.841069 (radians)\n"
     ]
    }
   ],
   "source": [
    "import math\n",
    "import string\n",
    "import sys\n",
    "\n",
    "# Reading the text file\n",
    "def read_file(filename):\n",
    "    try:\n",
    "        with open(filename, 'r') as f:\n",
    "            data = f.read()\n",
    "        return data\n",
    "    except IOError:\n",
    "        print(\"Error opening or reading input file:\", filename)\n",
    "        sys.exit()\n",
    "\n",
    "# Translation table for normalization\n",
    "translation_table = str.maketrans(string.punctuation + string.ascii_uppercase,\n",
    "                                  \" \" * len(string.punctuation) + string.ascii_lowercase)\n",
    "\n",
    "# Splits text into words\n",
    "def get_words_from_line_list(text):\n",
    "    text = text.translate(translation_table)\n",
    "    word_list = text.split()\n",
    "    return word_list\n",
    "\n",
    "# Counts frequency of each word\n",
    "def count_frequency(word_list):\n",
    "    D = {}\n",
    "    for new_word in word_list:\n",
    "        if new_word in D:\n",
    "            D[new_word] = D[new_word] + 1\n",
    "        else:\n",
    "            D[new_word] = 1\n",
    "    return D\n",
    "\n",
    "# Word frequency for a file\n",
    "def word_frequencies_for_file(filename):\n",
    "    line_list = read_file(filename)\n",
    "    word_list = get_words_from_line_list(line_list)\n",
    "    freq_mapping = count_frequency(word_list)\n",
    "    print(\"File\", filename, \":\")\n",
    "    print(len(word_list), \"words,\")\n",
    "    print(len(freq_mapping), \"distinct words\")\n",
    "    return freq_mapping\n",
    "\n",
    "# Dot product of two documents\n",
    "def dotProduct(D1, D2):\n",
    "    Sum = 0.0\n",
    "    for key in D1:\n",
    "        if key in D2:\n",
    "            Sum += (D1[key] * D2[key])\n",
    "    return Sum\n",
    "\n",
    "# Angle in radians between document vectors\n",
    "def vector_angle(D1, D2):\n",
    "    numerator = dotProduct(D1, D2)\n",
    "    denominator = math.sqrt(dotProduct(D1, D1) * dotProduct(D2, D2))\n",
    "    return math.acos(numerator / denominator)\n",
    "\n",
    "# Compute similarity\n",
    "def documentSimilarity(filename_1, filename_2):\n",
    "    sorted_word_list_1 = word_frequencies_for_file(filename_1)\n",
    "    sorted_word_list_2 = word_frequencies_for_file(filename_2)\n",
    "    distance = vector_angle(sorted_word_list_1, sorted_word_list_2)\n",
    "    print(\"The distance between the documents is: %0.6f (radians)\" % distance)\n",
    "\n",
    "# Driver code\n",
    "documentSimilarity('C:\\\\Users\\\\Tousif M Tamboli\\\\Downloads\\\\GFG.txt', 'C:\\\\Users\\\\Tousif M Tamboli\\\\Downloads\\\\file.txt')\n"
   ]
  },
  {
   "cell_type": "code",
   "execution_count": null,
   "id": "5e33f06b-6337-442f-88fe-2c4d8cbf9a33",
   "metadata": {},
   "outputs": [],
   "source": []
  }
 ],
 "metadata": {
  "kernelspec": {
   "display_name": "Python 3 (ipykernel)",
   "language": "python",
   "name": "python3"
  },
  "language_info": {
   "codemirror_mode": {
    "name": "ipython",
    "version": 3
   },
   "file_extension": ".py",
   "mimetype": "text/x-python",
   "name": "python",
   "nbconvert_exporter": "python",
   "pygments_lexer": "ipython3",
   "version": "3.11.7"
  }
 },
 "nbformat": 4,
 "nbformat_minor": 5
}
