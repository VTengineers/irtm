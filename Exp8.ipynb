{
 "cells": [
  {
   "cell_type": "code",
   "execution_count": 1,
   "id": "9b50773e-797a-4a8a-9a20-b9a167790a80",
   "metadata": {},
   "outputs": [
    {
     "name": "stdout",
     "output_type": "stream",
     "text": [
      "Defaulting to user installation because normal site-packages is not writeable\n",
      "Requirement already satisfied: networkx in c:\\programdata\\anaconda3\\lib\\site-packages (3.1)\n",
      "Requirement already satisfied: numpy in c:\\users\\tousif m tamboli\\appdata\\roaming\\python\\python311\\site-packages (1.24.4)\n",
      "Note: you may need to restart the kernel to use updated packages.\n"
     ]
    }
   ],
   "source": [
    "pip install networkx numpy"
   ]
  },
  {
   "cell_type": "code",
   "execution_count": 2,
   "id": "476a70b8-73d9-4a20-90ec-5c1f81dc0d91",
   "metadata": {},
   "outputs": [
    {
     "name": "stdout",
     "output_type": "stream",
     "text": [
      "Topic-Specific PageRank Scores:\n",
      "http://example.com/page1: 0.4183\n",
      "http://example.com/page2: 0.1778\n",
      "http://example.com/page3: 0.4039\n"
     ]
    }
   ],
   "source": [
    "import xml.etree.ElementTree as ET\n",
    "import networkx as nx\n",
    "import numpy as np\n",
    "\n",
    "# Function to parse XML and build the web graph\n",
    "def parse_xml_to_graph(xml_content):\n",
    "    root = ET.fromstring(xml_content)\n",
    "    G = nx.DiGraph()\n",
    "\n",
    "    for page in root.findall('page'):\n",
    "        url = page.get('url')\n",
    "        G.add_node(url)\n",
    "        \n",
    "        for link in page.findall('link'):\n",
    "            G.add_edge(url, link.text)\n",
    "\n",
    "    return G\n",
    "\n",
    "# Function to compute Topic-Specific PageRank\n",
    "def compute_topic_specific_pagerank(G, topics, alpha=0.85, personalization=None):\n",
    "    if personalization is None:\n",
    "        personalization = {node: 1.0 / len(G) for node in G.nodes()}\n",
    "\n",
    "    return nx.pagerank(G, alpha=alpha, personalization=personalization)\n",
    "\n",
    "# Sample XML content\n",
    "xml_content = \"\"\"\n",
    "<web>\n",
    "    <page url=\"http://example.com/page1\">\n",
    "        <link>http://example.com/page2</link>\n",
    "        <link>http://example.com/page3</link>\n",
    "    </page>\n",
    "    <page url=\"http://example.com/page2\">\n",
    "        <link>http://example.com/page3</link>\n",
    "    </page>\n",
    "    <page url=\"http://example.com/page3\">\n",
    "        <link>http://example.com/page1</link>\n",
    "    </page>\n",
    "</web>\n",
    "\"\"\"\n",
    "\n",
    "# Define the topics (important URLs)\n",
    "topics = [\n",
    "    \"http://example.com/page1\",\n",
    "    \"http://example.com/page3\"\n",
    "]\n",
    "\n",
    "# Parse XML to create web graph\n",
    "G = parse_xml_to_graph(xml_content)\n",
    "\n",
    "# Create personalization vector for topic-specific PageRank\n",
    "personalization = {node: 1.0 if node in topics else 0.0 for node in G.nodes()}\n",
    "\n",
    "# Compute Topic-Specific PageRank\n",
    "pagerank_scores = compute_topic_specific_pagerank(G, topics, personalization=personalization)\n",
    "\n",
    "# Display PageRank scores\n",
    "print(\"Topic-Specific PageRank Scores:\")\n",
    "for url, score in pagerank_scores.items():\n",
    "    print(f\"{url}: {score:.4f}\")\n"
   ]
  },
  {
   "cell_type": "code",
   "execution_count": 3,
   "id": "6683abe8-1b33-4b8b-b636-74512136d381",
   "metadata": {},
   "outputs": [
    {
     "ename": "FileNotFoundError",
     "evalue": "[Errno 2] No such file or directory: 'emp.xml'",
     "output_type": "error",
     "traceback": [
      "\u001b[1;31m---------------------------------------------------------------------------\u001b[0m",
      "\u001b[1;31mFileNotFoundError\u001b[0m                         Traceback (most recent call last)",
      "Cell \u001b[1;32mIn[3], line 38\u001b[0m\n\u001b[0;32m     35\u001b[0m         \u001b[38;5;28mprint\u001b[39m(skill\u001b[38;5;241m.\u001b[39mgetAttribute(\u001b[38;5;124m\"\u001b[39m\u001b[38;5;124mname\u001b[39m\u001b[38;5;124m\"\u001b[39m))\n\u001b[0;32m     37\u001b[0m \u001b[38;5;28;01mif\u001b[39;00m \u001b[38;5;18m__name__\u001b[39m \u001b[38;5;241m==\u001b[39m \u001b[38;5;124m\"\u001b[39m\u001b[38;5;124m__main__\u001b[39m\u001b[38;5;124m\"\u001b[39m:\n\u001b[1;32m---> 38\u001b[0m     \u001b[43mmain\u001b[49m\u001b[43m(\u001b[49m\u001b[43m)\u001b[49m\n",
      "Cell \u001b[1;32mIn[3], line 5\u001b[0m, in \u001b[0;36mmain\u001b[1;34m()\u001b[0m\n\u001b[0;32m      3\u001b[0m \u001b[38;5;28;01mdef\u001b[39;00m \u001b[38;5;21mmain\u001b[39m():\n\u001b[0;32m      4\u001b[0m     \u001b[38;5;66;03m# Parse the XML file\u001b[39;00m\n\u001b[1;32m----> 5\u001b[0m     doc \u001b[38;5;241m=\u001b[39m \u001b[43mxml\u001b[49m\u001b[38;5;241;43m.\u001b[39;49m\u001b[43mdom\u001b[49m\u001b[38;5;241;43m.\u001b[39;49m\u001b[43mminidom\u001b[49m\u001b[38;5;241;43m.\u001b[39;49m\u001b[43mparse\u001b[49m\u001b[43m(\u001b[49m\u001b[38;5;124;43m\"\u001b[39;49m\u001b[38;5;124;43memp.xml\u001b[39;49m\u001b[38;5;124;43m\"\u001b[39;49m\u001b[43m)\u001b[49m\n\u001b[0;32m      7\u001b[0m     \u001b[38;5;66;03m# Print the root node name\u001b[39;00m\n\u001b[0;32m      8\u001b[0m     \u001b[38;5;28mprint\u001b[39m(doc\u001b[38;5;241m.\u001b[39mnodeName)\n",
      "File \u001b[1;32mC:\\ProgramData\\anaconda3\\Lib\\xml\\dom\\minidom.py:1990\u001b[0m, in \u001b[0;36mparse\u001b[1;34m(file, parser, bufsize)\u001b[0m\n\u001b[0;32m   1988\u001b[0m \u001b[38;5;28;01mif\u001b[39;00m parser \u001b[38;5;129;01mis\u001b[39;00m \u001b[38;5;28;01mNone\u001b[39;00m \u001b[38;5;129;01mand\u001b[39;00m \u001b[38;5;129;01mnot\u001b[39;00m bufsize:\n\u001b[0;32m   1989\u001b[0m     \u001b[38;5;28;01mfrom\u001b[39;00m \u001b[38;5;21;01mxml\u001b[39;00m\u001b[38;5;21;01m.\u001b[39;00m\u001b[38;5;21;01mdom\u001b[39;00m \u001b[38;5;28;01mimport\u001b[39;00m expatbuilder\n\u001b[1;32m-> 1990\u001b[0m     \u001b[38;5;28;01mreturn\u001b[39;00m \u001b[43mexpatbuilder\u001b[49m\u001b[38;5;241;43m.\u001b[39;49m\u001b[43mparse\u001b[49m\u001b[43m(\u001b[49m\u001b[43mfile\u001b[49m\u001b[43m)\u001b[49m\n\u001b[0;32m   1991\u001b[0m \u001b[38;5;28;01melse\u001b[39;00m:\n\u001b[0;32m   1992\u001b[0m     \u001b[38;5;28;01mfrom\u001b[39;00m \u001b[38;5;21;01mxml\u001b[39;00m\u001b[38;5;21;01m.\u001b[39;00m\u001b[38;5;21;01mdom\u001b[39;00m \u001b[38;5;28;01mimport\u001b[39;00m pulldom\n",
      "File \u001b[1;32mC:\\ProgramData\\anaconda3\\Lib\\xml\\dom\\expatbuilder.py:910\u001b[0m, in \u001b[0;36mparse\u001b[1;34m(file, namespaces)\u001b[0m\n\u001b[0;32m    907\u001b[0m     builder \u001b[38;5;241m=\u001b[39m ExpatBuilder()\n\u001b[0;32m    909\u001b[0m \u001b[38;5;28;01mif\u001b[39;00m \u001b[38;5;28misinstance\u001b[39m(file, \u001b[38;5;28mstr\u001b[39m):\n\u001b[1;32m--> 910\u001b[0m     \u001b[38;5;28;01mwith\u001b[39;00m \u001b[38;5;28;43mopen\u001b[39;49m\u001b[43m(\u001b[49m\u001b[43mfile\u001b[49m\u001b[43m,\u001b[49m\u001b[43m \u001b[49m\u001b[38;5;124;43m'\u001b[39;49m\u001b[38;5;124;43mrb\u001b[39;49m\u001b[38;5;124;43m'\u001b[39;49m\u001b[43m)\u001b[49m \u001b[38;5;28;01mas\u001b[39;00m fp:\n\u001b[0;32m    911\u001b[0m         result \u001b[38;5;241m=\u001b[39m builder\u001b[38;5;241m.\u001b[39mparseFile(fp)\n\u001b[0;32m    912\u001b[0m \u001b[38;5;28;01melse\u001b[39;00m:\n",
      "\u001b[1;31mFileNotFoundError\u001b[0m: [Errno 2] No such file or directory: 'emp.xml'"
     ]
    }
   ],
   "source": [
    "import xml.dom.minidom\n",
    "\n",
    "def main():\n",
    "    # Parse the XML file\n",
    "    doc = xml.dom.minidom.parse(\"\"C:\\Users\\Tousif M Tamboli\\Downloads\\emp.xml\"\")\n",
    "    \n",
    "    # Print the root node name\n",
    "    print(doc.nodeName)\n",
    "    \n",
    "    # Print the tag name of the first child\n",
    "    print(doc.firstChild.tagName)\n",
    "    \n",
    "    # Get all expertise elements\n",
    "    expertise = doc.getElementsByTagName(\"expertise\")\n",
    "    \n",
    "    # Print the number of expertise elements\n",
    "    print(\"%d expertise:\" % expertise.length)\n",
    "    \n",
    "    # Loop through each expertise element and print its name attribute\n",
    "    for skill in expertise:\n",
    "        print(skill.getAttribute(\"name\"))\n",
    "    \n",
    "    # Create a new expertise element and add it to the document\n",
    "    new_expertise = doc.createElement(\"expertise\")\n",
    "    new_expertise.setAttribute(\"name\", \"BigData\")\n",
    "    doc.firstChild.appendChild(new_expertise)\n",
    "    \n",
    "    # Print a blank line\n",
    "    print()\n",
    "    \n",
    "    # Retrieve and print updated expertise elements\n",
    "    expertise = doc.getElementsByTagName(\"expertise\")\n",
    "    print(\"%d expertise:\" % expertise.length)\n",
    "    for skill in expertise:\n",
    "        print(skill.getAttribute(\"name\"))\n",
    "\n",
    "if __name__ == \"__main__\":\n",
    "    main()\n"
   ]
  },
  {
   "cell_type": "code",
   "execution_count": null,
   "id": "ae545a63-57ae-4a87-a5d7-b58570ef8852",
   "metadata": {},
   "outputs": [],
   "source": []
  }
 ],
 "metadata": {
  "kernelspec": {
   "display_name": "Python 3 (ipykernel)",
   "language": "python",
   "name": "python3"
  },
  "language_info": {
   "codemirror_mode": {
    "name": "ipython",
    "version": 3
   },
   "file_extension": ".py",
   "mimetype": "text/x-python",
   "name": "python",
   "nbconvert_exporter": "python",
   "pygments_lexer": "ipython3",
   "version": "3.11.7"
  }
 },
 "nbformat": 4,
 "nbformat_minor": 5
}
